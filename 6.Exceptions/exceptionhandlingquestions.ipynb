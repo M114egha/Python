{
 "cells": [
  {
   "cell_type": "markdown",
   "metadata": {},
   "source": [
    "# Module: Exception Handling Assignments\n",
    "## Lesson: Exception Handling with try, except, and finally\n",
    "### Assignment 1: Handling Division by Zero\n",
    "\n",
    "Write a function that takes two integers as input and returns their division. Use try, except, and finally blocks to handle division by zero and print an appropriate message.\n",
    "\n",
    "### Assignment 2: File Reading with Exception Handling\n",
    "\n",
    "Write a function that reads the contents of a file named `data.txt`. Use try, except, and finally blocks to handle file not found errors and ensure the file is properly closed.\n",
    "\n",
    "### Assignment 3: Handling Multiple Exceptions\n",
    "\n",
    "Write a function that takes a list of integers and returns their sum. Use try, except, and finally blocks to handle TypeError if a non-integer value is encountered and print an appropriate message.\n",
    "\n",
    "### Assignment 4: Exception Handling in User Input\n",
    "\n",
    "Write a function that prompts the user to enter an integer. Use try, except, and finally blocks to handle ValueError if the user enters a non-integer value and print an appropriate message.\n",
    "\n",
    "### Assignment 5: Exception Handling in Dictionary Access\n",
    "\n",
    "Write a function that takes a dictionary and a key as input and returns the value associated with the key. Use try, except, and finally blocks to handle KeyError if the key is not found in the dictionary and print an appropriate message.\n",
    "\n",
    "### Assignment 6: Nested Exception Handling\n",
    "\n",
    "Write a function that performs nested exception handling. It should first attempt to convert a string to an integer, and then attempt to divide by that integer. Use nested try, except, and finally blocks to handle ValueError and ZeroDivisionError and print appropriate messages.\n",
    "\n",
    "### Assignment 7: Exception Handling in List Operations\n",
    "\n",
    "Write a function that takes a list and an index as input and returns the element at the given index. Use try, except, and finally blocks to handle IndexError if the index is out of range and print an appropriate message.\n",
    "\n",
    "### Assignment 8: Exception Handling in Network Operations\n",
    "\n",
    "Write a function that attempts to open a URL and read its contents. Use try, except, and finally blocks to handle network-related errors and print an appropriate message.\n",
    "\n",
    "### Assignment 9: Exception Handling in JSON Parsing\n",
    "\n",
    "Write a function that attempts to parse a JSON string. Use try, except, and finally blocks to handle JSONDecodeError if the string is not a valid JSON and print an appropriate message.\n",
    "\n",
    "### Assignment 10: Custom Exception Handling\n",
    "\n",
    "Define a custom exception named `NegativeNumberError`. Write a function that raises this exception if a negative number is encountered in a list. Use try, except, and finally blocks to handle the custom exception and print an appropriate message.\n",
    "\n",
    "### Assignment 11: Exception Handling in Function Calls\n",
    "\n",
    "Write a function that calls another function which may raise an exception. Use try, except, and finally blocks to handle the exception and print an appropriate message.\n",
    "\n",
    "### Assignment 12: Exception Handling in Class Methods\n",
    "\n",
    "Define a class with a method that performs a division operation. Use try, except, and finally blocks within the method to handle division by zero and print an appropriate message.\n",
    "\n",
    "### Assignment 13: Exception Handling in Data Conversion\n",
    "\n",
    "Write a function that takes a list of strings and converts them to integers. Use try, except, and finally blocks to handle ValueError if a string cannot be converted and print an appropriate message.\n",
    "\n",
    "### Assignment 14: Exception Handling in List Comprehensions\n",
    "\n",
    "Write a function that uses a list comprehension to convert a list of strings to integers. Use try, except, and finally blocks within the list comprehension to handle ValueError and print an appropriate message.\n",
    "\n",
    "### Assignment 15: Exception Handling in File Writing\n",
    "\n",
    "Write a function that attempts to write a list of strings to a file. Use try, except, and finally blocks to handle IOError and ensure the file is properly closed."
   ]
  },
  {
   "cell_type": "code",
   "execution_count": null,
   "metadata": {},
   "outputs": [],
   "source": []
  },
  {
   "cell_type": "code",
   "execution_count": 8,
   "id": "d1871481",
   "metadata": {},
   "outputs": [
    {
     "name": "stdout",
     "output_type": "stream",
     "text": [
      "erroras division by zero\n",
      "Exception complete\n",
      "None\n",
      "Exception complete\n",
      "3.0\n"
     ]
    }
   ],
   "source": [
    "def divide(a,b):\n",
    "    try:\n",
    "        res=a/b\n",
    "    except ZeroDivisionError as e:\n",
    "        print(f\"erroras {e}\")\n",
    "        res=None\n",
    "    finally:\n",
    "        print(\"Exception complete\")\n",
    "    return res\n",
    "print(divide(6,0))\n",
    "print(divide(6,2))"
   ]
  },
  {
   "cell_type": "code",
   "execution_count": 12,
   "id": "557b4285",
   "metadata": {},
   "outputs": [
    {
     "data": {
      "text/plain": [
       "'hiii!\\nim meghana\\nim a student at scoe'"
      ]
     },
     "execution_count": 12,
     "metadata": {},
     "output_type": "execute_result"
    }
   ],
   "source": [
    "def read_file(filename):\n",
    "    try:\n",
    "\n",
    "        file=open(filename , 'r')\n",
    "        content=file.read()\n",
    "        return content\n",
    "    except FileNotFoundError as e:\n",
    "        print(f\"Error:{e}\")\n",
    "    finally:\n",
    "        try:\n",
    "            file.close()\n",
    "        except NameError:\n",
    "            pass\n",
    "\n",
    "\n",
    "read_file('data.txt')"
   ]
  },
  {
   "cell_type": "code",
   "execution_count": 13,
   "id": "1e97ac79",
   "metadata": {},
   "outputs": [
    {
     "name": "stdout",
     "output_type": "stream",
     "text": [
      "Error : unsupported operand type(s) for +=: 'int' and 'str'\n",
      "Execution complete.\n",
      "None\n",
      "Execution complete.\n",
      "10\n"
     ]
    }
   ],
   "source": [
    "def sum_list(list):\n",
    "    total=0\n",
    "    try:\n",
    "        for item in list:\n",
    "            total+= item\n",
    "        return total\n",
    "    except TypeError as e:\n",
    "        print(f\"Error : {e}\")\n",
    "        total =None\n",
    "    finally:\n",
    "        print(\"Execution complete.\")\n",
    "    return total\n",
    "print(sum_list([1, 2, 3, 'a']))  # None\n",
    "print(sum_list([1, 2, 3, 4]))"
   ]
  },
  {
   "cell_type": "code",
   "execution_count": 14,
   "id": "86638f60",
   "metadata": {},
   "outputs": [
    {
     "name": "stdout",
     "output_type": "stream",
     "text": [
      "Execution complete.\n",
      "3\n"
     ]
    }
   ],
   "source": [
    "def get_integer():\n",
    "    try:\n",
    "        value=int(input(\"Enter a num\"))\n",
    "    except ValueError as e:\n",
    "        print(f\"Error : {e}\")\n",
    "        value=None\n",
    "    finally:\n",
    "        print(\"Execution complete.\")\n",
    "    return value\n",
    "\n",
    "# Test\n",
    "print(get_integer())\n"
   ]
  },
  {
   "cell_type": "code",
   "execution_count": 15,
   "id": "819151a3",
   "metadata": {},
   "outputs": [
    {
     "name": "stdout",
     "output_type": "stream",
     "text": [
      "Execution complete.\n",
      "2\n",
      "Error :'x'\n",
      "Execution complete.\n",
      "None\n"
     ]
    }
   ],
   "source": [
    "def get_dict_value(d, key):\n",
    "    try:\n",
    "        value=d[key]\n",
    "    except KeyError as e:\n",
    "        print(f\"Error :{e}\")\n",
    "        value= None\n",
    "    finally:\n",
    "        print(\"Execution complete.\")\n",
    "    return value\n",
    "\n",
    "# Test\n",
    "d = {'a': 1, 'b': 2, 'c': 3}\n",
    "print(get_dict_value(d, 'b'))  # 2\n",
    "print(get_dict_value(d, 'x'))  # None\n"
   ]
  },
  {
   "cell_type": "code",
   "execution_count": 1,
   "id": "55cd44d1",
   "metadata": {},
   "outputs": [],
   "source": [
    "def nested_exception_handling(s):\n",
    "    try:\n",
    "        try:\n",
    "            num=int(s)\n",
    "        except ValueError as e:\n",
    "            print(f\"Conversion Error:{e}\")\n",
    "            num=None\n",
    "        finally:\n",
    "            print(\"Conversion attempt complete\")\n",
    "        \n",
    "        if num is not None:\n",
    "            try:\n",
    "                res=10/num\n",
    "            except ZeroDivisionError as e:\n",
    "                print(f\"Division Error :{e}\")\n",
    "                res=None\n",
    "            finally:\n",
    "                print(\"Division attempt complete\")\n",
    "            return res\n",
    "    finally:\n",
    "        print(\"Overall execution complete.\")\n",
    "\n"
   ]
  },
  {
   "cell_type": "code",
   "execution_count": 5,
   "id": "2a0e3431",
   "metadata": {},
   "outputs": [
    {
     "name": "stdout",
     "output_type": "stream",
     "text": [
      "Execution complete.\n",
      "3\n",
      "Index ERRor:list index out of range\n",
      "Execution complete.\n",
      "None\n"
     ]
    }
   ],
   "source": [
    "def get_element(list , index):\n",
    "    try:\n",
    "        element=list[index]\n",
    "    except IndexError as e:\n",
    "        print(f\"Index ERRor:{e}\")\n",
    "        element=None\n",
    "    finally:\n",
    "        print(\"Execution complete.\")\n",
    "    return element\n",
    "\n",
    "# Test\n",
    "list = [1, 2, 3, 4, 5]\n",
    "print(get_element(list, 2))  # 3\n",
    "print(get_element(list, 10))"
   ]
  },
  {
   "cell_type": "code",
   "execution_count": 1,
   "id": "55c06a51",
   "metadata": {},
   "outputs": [],
   "source": [
    "import requests\n",
    "\n",
    "def read_url(url):\n",
    "    try:\n",
    "        response=requests.get(url)\n",
    "        response.raise_for_status()\n",
    "        return response.text\n",
    "    except requests.RequestException as e:\n",
    "        print(f\"Network Error: { e}\")\n",
    "        return None\n",
    "    finally:\n",
    "        print(\"Exceution complete\")\n"
   ]
  },
  {
   "cell_type": "code",
   "execution_count": 3,
   "id": "7eecab9b",
   "metadata": {},
   "outputs": [
    {
     "name": "stdout",
     "output_type": "stream",
     "text": [
      "Execution complete\n",
      "{'name': 'John', 'age': 30}\n",
      "JSON Error: Expecting value: line 1 column 1 (char 0)\n",
      "Execution complete\n",
      "None\n"
     ]
    }
   ],
   "source": [
    "import json\n",
    "\n",
    "def parse_json(json_string):\n",
    "    try:\n",
    "        data=json.loads(json_string)\n",
    "        return data\n",
    "    except json.JSONDecodeError as e:\n",
    "        print(f\"JSON Error: {e}\")\n",
    "        return None\n",
    "    finally:\n",
    "        print(\"Execution complete\")\n",
    "print(parse_json('{\"name\": \"John\", \"age\": 30}'))  # {'name': 'John', 'age': 30}\n",
    "print(parse_json('Invalid JSON'))"
   ]
  },
  {
   "cell_type": "code",
   "execution_count": 7,
   "id": "a10ffa48",
   "metadata": {},
   "outputs": [
    {
     "name": "stdout",
     "output_type": "stream",
     "text": [
      "Execution complete\n",
      "Error:Negative  no found: -3\n",
      "Execution complete\n"
     ]
    }
   ],
   "source": [
    "class NegativeNumberError(Exception):\n",
    "    pass\n",
    "\n",
    "def check_for_negatives(lst):\n",
    "    try:\n",
    "        for num in lst:\n",
    "            if num<0:\n",
    "                raise NegativeNumberError(f\"Negative  no found: {num}\")\n",
    "            \n",
    "    except NegativeNumberError as e:\n",
    "        print(f\"Error:{e}\")\n",
    "\n",
    "    finally:\n",
    "        print(\"Execution complete\")\n",
    "\n",
    "check_for_negatives([1,2,3,4])\n",
    "check_for_negatives([1,2,-3,4])"
   ]
  },
  {
   "cell_type": "code",
   "execution_count": 8,
   "id": "79c2220b",
   "metadata": {},
   "outputs": [
    {
     "name": "stdout",
     "output_type": "stream",
     "text": [
      "Error:An error occured in risky func\n",
      "Execution complete\n"
     ]
    }
   ],
   "source": [
    "def risky_function():\n",
    "    raise ValueError(\"An error occured in risky func\")\n",
    "\n",
    "def safe_function():\n",
    "    try:\n",
    "        risky_function()\n",
    "    except ValueError as e:\n",
    "        print(f\"Error:{e}\")\n",
    "    finally:\n",
    "        print(\"Execution complete\")\n",
    "\n",
    "safe_function()"
   ]
  },
  {
   "cell_type": "code",
   "execution_count": 12,
   "id": "ec1e86e6",
   "metadata": {},
   "outputs": [
    {
     "name": "stdout",
     "output_type": "stream",
     "text": [
      "Execution complete\n",
      "5.0\n"
     ]
    }
   ],
   "source": [
    "class Calc:\n",
    "    def divide(self, a,b):\n",
    "        try:\n",
    "            res=a/b\n",
    "        except ZeroDivisionError as e:\n",
    "            print(f\"ZeroDivisionError:{e}\")\n",
    "            res=None\n",
    "        finally:\n",
    "            print(\"Execution complete\")\n",
    "        return res\n",
    "\n",
    "calc=Calc()\n",
    "print(calc.divide(10,2))\n",
    "\n",
    "\n",
    "        "
   ]
  },
  {
   "cell_type": "code",
   "execution_count": 18,
   "id": "47fa27b9",
   "metadata": {},
   "outputs": [
    {
     "name": "stdout",
     "output_type": "stream",
     "text": [
      "ValueError:invalid literal for int() with base 10: 'a'\n",
      "Execution complete\n",
      "None\n",
      "Execution complete\n",
      "[1, 2, 3, 4]\n"
     ]
    }
   ],
   "source": [
    "def convert_to_int(lst):\n",
    "    integers=[]\n",
    "    try:\n",
    "        for item in lst:\n",
    "            integers.append(int(item))\n",
    "    except ValueError as e :\n",
    "        print(f\"ValueError:{e}\")\n",
    "        return None\n",
    "    finally:\n",
    "        print(\"Execution complete\")\n",
    "    return integers\n",
    "\n",
    "print(convert_to_int(['a','b','c']))\n",
    "print(convert_to_int([1,2,3,4]))"
   ]
  },
  {
   "cell_type": "code",
   "execution_count": 19,
   "id": "54a70ce7",
   "metadata": {},
   "outputs": [],
   "source": [
    "def write_strings_to_file(strings, filename):\n",
    "    try:\n",
    "        file=open(filename , 'w')\n",
    "        for string in strings:\n",
    "            file.write(string + '/n')\n",
    "    except IOError as e:\n",
    "        print(f\"Errror:{e}\")\n",
    "    finally:\n",
    "        try:\n",
    "            file.close()\n",
    "        except NameError:\n",
    "            pass\n"
   ]
  },
  {
   "cell_type": "code",
   "execution_count": null,
   "id": "cfe00296",
   "metadata": {},
   "outputs": [],
   "source": []
  }
 ],
 "metadata": {
  "kernelspec": {
   "display_name": "base",
   "language": "python",
   "name": "python3"
  },
  "language_info": {
   "codemirror_mode": {
    "name": "ipython",
    "version": 3
   },
   "file_extension": ".py",
   "mimetype": "text/x-python",
   "name": "python",
   "nbconvert_exporter": "python",
   "pygments_lexer": "ipython3",
   "version": "3.9.13"
  }
 },
 "nbformat": 4,
 "nbformat_minor": 5
}
