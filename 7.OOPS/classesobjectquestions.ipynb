{
 "cells": [
  {
   "cell_type": "markdown",
   "metadata": {},
   "source": [
    "# Module: Classes and Objects Assignments\n",
    "## Lesson: Creating and Working with Classes and Objects\n",
    "### Assignment 1: Basic Class and Object Creation\n",
    "\n",
    "Create a class named `Car` with attributes `make`, `model`, and `year`. Create an object of the class and print its attributes.\n",
    "\n",
    "### Assignment 2: Methods in Class\n",
    "\n",
    "Add a method named `start_engine` to the `Car` class that prints a message when the engine starts. Create an object of the class and call the method.\n",
    "\n",
    "### Assignment 3: Class with Constructor\n",
    "\n",
    "Create a class named `Student` with attributes `name` and `age`. Use a constructor to initialize these attributes. Create an object of the class and print its attributes.\n",
    "\n",
    "### Assignment 4: Class with Private Attributes\n",
    "\n",
    "Create a class named `BankAccount` with private attributes `account_number` and `balance`. Add methods to deposit and withdraw money, and to check the balance. Create an object of the class and perform some operations.\n",
    "\n",
    "### Assignment 5: Class Inheritance\n",
    "\n",
    "Create a base class named `Person` with attributes `name` and `age`. Create a derived class named `Employee` that inherits from `Person` and adds an attribute `employee_id`. Create an object of the derived class and print its attributes.\n",
    "\n",
    "### Assignment 6: Method Overriding\n",
    "\n",
    "In the `Employee` class, override the `__str__` method to return a string representation of the object. Create an object of the class and print it.\n",
    "\n",
    "### Assignment 7: Class Composition\n",
    "\n",
    "Create a class named `Address` with attributes `street`, `city`, and `zipcode`. Create a class named `Person` that has an `Address` object as an attribute. Create an object of the `Person` class and print its address.\n",
    "\n",
    "### Assignment 8: Class with Class Variables\n",
    "\n",
    "Create a class named `Counter` with a class variable `count`. Each time an object is created, increment the count. Add a method to get the current count. Create multiple objects and print the count.\n",
    "\n",
    "### Assignment 9: Static Methods\n",
    "\n",
    "Create a class named `MathOperations` with a static method to calculate the square root of a number. Call the static method without creating an object.\n",
    "\n",
    "### Assignment 10: Class with Properties\n",
    "\n",
    "Create a class named `Rectangle` with private attributes `length` and `width`. Use properties to get and set these attributes. Create an object of the class and test the properties.\n",
    "\n",
    "### Assignment 11: Abstract Base Class\n",
    "\n",
    "Create an abstract base class named `Shape` with an abstract method `area`. Create derived classes `Circle` and `Square` that implement the `area` method. Create objects of the derived classes and call the `area` method.\n",
    "\n",
    "### Assignment 12: Operator Overloading\n",
    "\n",
    "Create a class named `Vector` with attributes `x` and `y`. Overload the `+` operator to add two `Vector` objects. Create objects of the class and test the operator overloading.\n",
    "\n",
    "### Assignment 13: Class with Custom Exception\n",
    "\n",
    "Create a custom exception named `InsufficientBalanceError`. In the `BankAccount` class, raise this exception when a withdrawal amount is greater than the balance. Handle the exception and print an appropriate message.\n",
    "\n",
    "### Assignment 14: Class with Context Manager\n",
    "\n",
    "Create a class named `FileManager` that implements the context manager protocol to open and close a file. Use this class to read the contents of a file.\n",
    "\n",
    "### Assignment 15: Chaining Methods\n",
    "\n",
    "Create a class named `Calculator` with methods to add, subtract, multiply, and divide. Each method should return the object itself to allow method chaining. Create an object and chain multiple method calls."
   ]
  },
  {
   "cell_type": "code",
   "execution_count": null,
   "metadata": {},
   "outputs": [],
   "source": []
  },
  {
   "cell_type": "code",
   "execution_count": 10,
   "id": "ae7b2562",
   "metadata": {},
   "outputs": [
    {
     "name": "stdout",
     "output_type": "stream",
     "text": [
      "X audi 2000\n"
     ]
    }
   ],
   "source": [
    "class Car:\n",
    "    def __init__(self, make , model , year):\n",
    "        self.make=make\n",
    "        self.model=model\n",
    "        self.year=year\n",
    "\n",
    "car=Car('X', 'audi', 2000)\n",
    "print(car.make, car.model , car.year)\n"
   ]
  },
  {
   "cell_type": "code",
   "execution_count": 11,
   "id": "13551ebf",
   "metadata": {},
   "outputs": [
    {
     "name": "stdout",
     "output_type": "stream",
     "text": [
      "The engine has started\n"
     ]
    }
   ],
   "source": [
    "class Car:\n",
    "    def __init__(self, make , model , year):\n",
    "        self.make=make\n",
    "        self.model=model\n",
    "        self.year=year\n",
    "    \n",
    "    def start_engine(self):\n",
    "        print(\"The engine has started\")\n",
    "    \n",
    "car=Car('X','audi', 2000)\n",
    "car.start_engine()"
   ]
  },
  {
   "cell_type": "code",
   "execution_count": 12,
   "id": "5a18ab21",
   "metadata": {},
   "outputs": [
    {
     "name": "stdout",
     "output_type": "stream",
     "text": [
      "Rahul 20\n"
     ]
    }
   ],
   "source": [
    "class Student:\n",
    "    def __init__(self, name , age):\n",
    "        self.name=name\n",
    "        self.age = age\n",
    "\n",
    "stud_details=Student(\"Rahul\" , 20)\n",
    "print(stud_details.name , stud_details.age)"
   ]
  },
  {
   "cell_type": "markdown",
   "id": "4182addc",
   "metadata": {},
   "source": [
    "* private attributes are variables within a class that are not directly accessible from outside the class."
   ]
  },
  {
   "cell_type": "code",
   "execution_count": 18,
   "id": "5d7cf094",
   "metadata": {},
   "outputs": [
    {
     "name": "stdout",
     "output_type": "stream",
     "text": [
      "1300\n",
      "Insufficient balance\n"
     ]
    }
   ],
   "source": [
    "class  BankAccount:\n",
    "    def __init__(self, account_number , balance=0):\n",
    "        self.__account_number=account_number\n",
    "        self.__balance=balance\n",
    "\n",
    "    def deposit(self, amount):\n",
    "        self.__balance+=amount\n",
    "    \n",
    "    def withdraw(self,amount):\n",
    "        if amount > self.__balance:\n",
    "            print(\"Insufficient balance\")\n",
    "        else:\n",
    "            self.__balance-=amount\n",
    "        \n",
    "    def check_balance(self):\n",
    "        return self.__balance\n",
    "\n",
    "\n",
    "account = BankAccount('12345678', 1000)\n",
    "account.deposit(500)\n",
    "account.withdraw(200)\n",
    "print(account.check_balance())  # 1300\n",
    "account.withdraw(2000)  # Insufficient balance!"
   ]
  },
  {
   "cell_type": "markdown",
   "id": "1f3c87d6",
   "metadata": {},
   "source": [
    "* The super() function is used to:\n",
    "\n",
    "* Call methods from the parent class.\n",
    "* Access the parent class’s constructor from the child class. python\n",
    "\n"
   ]
  },
  {
   "cell_type": "code",
   "execution_count": 21,
   "id": "f4d79cc7",
   "metadata": {},
   "outputs": [
    {
     "name": "stdout",
     "output_type": "stream",
     "text": [
      "Kris 20 E01\n"
     ]
    }
   ],
   "source": [
    "# Class inheritance\n",
    "class Person:\n",
    "    def __init__(self,name , age):\n",
    "        self.name=name\n",
    "        self.age=age\n",
    "\n",
    "class Employee(Person):\n",
    "    def __init__(self, name , age , emp_id):\n",
    "        super().__init__(name , age)\n",
    "        self.emp_id=emp_id\n",
    "        \n",
    "emp=Employee('Kris' , 20 , 'E01')\n",
    "print(emp.name , emp.age , emp.emp_id)"
   ]
  },
  {
   "cell_type": "markdown",
   "id": "97ae6f0b",
   "metadata": {},
   "source": [
    "* METHOD OVERRIDING\n",
    "* where a method in a child class has the same name and signature as a method in the parent class, but it provides a         different implementation for the child class."
   ]
  },
  {
   "cell_type": "markdown",
   "id": "a92ebb22",
   "metadata": {},
   "source": [
    "* Define a method in the child class with the same name as the method in the parent class.\n",
    "* The child method can either call the parent method using super() or completely replace it with its own implementation.\n"
   ]
  },
  {
   "cell_type": "code",
   "execution_count": 23,
   "id": "0f58be33",
   "metadata": {},
   "outputs": [
    {
     "name": "stdout",
     "output_type": "stream",
     "text": [
      "Employee name:Alice , age :30 , emp_id:E123\n"
     ]
    }
   ],
   "source": [
    "class Employee(Person):\n",
    "    def __init__(self, name, age, emp_id):\n",
    "        super().__init__(name, age)\n",
    "        self.emp_id=emp_id\n",
    "\n",
    "    def __str__(self):      #__str__ is used to define the string representation of an object.\n",
    "        return (f\"Employee name:{self.name} , age :{self.age} , emp_id:{self.emp_id}\")\n",
    "    #By overriding __str__, you can make the output more meaningful, like displaying key attributes of the object.\n",
    "\n",
    "\n",
    "    #The __str__ method is overridden in the Employee class to provide a custom string representation of the Employee object.\n",
    "employee=Employee('Alice', 30, 'E123')\n",
    "print(employee)"
   ]
  },
  {
   "cell_type": "code",
   "execution_count": 24,
   "id": "26414b7a",
   "metadata": {},
   "outputs": [
    {
     "name": "stdout",
     "output_type": "stream",
     "text": [
      "123 Main St New York 10001\n"
     ]
    }
   ],
   "source": [
    "class Address:\n",
    "    def __init__(self , street ,city , zipcode):\n",
    "        self.street=street\n",
    "        self.city=city\n",
    "        self.zipcode=zipcode\n",
    "    \n",
    "class Person:\n",
    "    def __init__(self,name , age , address):\n",
    "        self.name = name\n",
    "        self.age = age\n",
    "        self.address = address\n",
    "\n",
    "address=Address('123 Main St', 'New York', '10001')\n",
    "person=Person('John', 25, address)\n",
    "print(person.address.street, person.address.city, person.address.zipcode)\n",
    "        "
   ]
  },
  {
   "cell_type": "code",
   "execution_count": 7,
   "id": "8d45faef",
   "metadata": {},
   "outputs": [
    {
     "name": "stdout",
     "output_type": "stream",
     "text": [
      "4\n"
     ]
    }
   ],
   "source": [
    "class Counter:\n",
    "    count=0\n",
    "\n",
    "    def __init__(self):\n",
    "        Counter.count +=1\n",
    "    \n",
    "    @classmethod\n",
    "    def get_count(cls):\n",
    "        return cls.count\n",
    "        \n",
    "c1=Counter()\n",
    "c2=Counter()\n",
    "c3=Counter()\n",
    "c4=Counter()\n",
    "print(Counter.get_count())\n"
   ]
  },
  {
   "cell_type": "code",
   "execution_count": null,
   "id": "854853f8",
   "metadata": {},
   "outputs": [],
   "source": []
  }
 ],
 "metadata": {
  "kernelspec": {
   "display_name": "base",
   "language": "python",
   "name": "python3"
  },
  "language_info": {
   "codemirror_mode": {
    "name": "ipython",
    "version": 3
   },
   "file_extension": ".py",
   "mimetype": "text/x-python",
   "name": "python",
   "nbconvert_exporter": "python",
   "pygments_lexer": "ipython3",
   "version": "3.9.13"
  }
 },
 "nbformat": 4,
 "nbformat_minor": 5
}
