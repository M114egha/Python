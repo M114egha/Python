{
 "cells": [
  {
   "cell_type": "markdown",
   "metadata": {},
   "source": [
    "##### OOOPS uses object to design applications\n"
   ]
  },
  {
   "cell_type": "markdown",
   "metadata": {},
   "source": [
    "* Class is blueprint to objects\n",
    "* it defines attributes and methods"
   ]
  },
  {
   "cell_type": "code",
   "execution_count": 1,
   "metadata": {},
   "outputs": [
    {
     "name": "stdout",
     "output_type": "stream",
     "text": [
      "<class '__main__.Car'>\n"
     ]
    }
   ],
   "source": [
    "class Car:\n",
    "    pass\n",
    "audi=Car()\n",
    "print(type(audi))"
   ]
  },
  {
   "cell_type": "code",
   "execution_count": 2,
   "metadata": {},
   "outputs": [
    {
     "name": "stdout",
     "output_type": "stream",
     "text": [
      "<__main__.Car object at 0x00000224667812B0>\n"
     ]
    }
   ],
   "source": [
    "print(audi)"
   ]
  },
  {
   "cell_type": "code",
   "execution_count": 6,
   "metadata": {},
   "outputs": [
    {
     "name": "stdout",
     "output_type": "stream",
     "text": [
      "<__main__.dog object at 0x00000224661E0730>\n",
      "Brian\n",
      "20\n"
     ]
    }
   ],
   "source": [
    "#INastancevar and methods\n",
    "class dog:\n",
    "    #constructor method to initailiaze atttributes\n",
    "    def __init__(self,  name , age):\n",
    "        self.name=name\n",
    "        self.age=age\n",
    "\n",
    "#craete objects of class dog\n",
    "dog1=dog(\"Brian\", 20)\n",
    "print(dog1)\n",
    "print(dog1.name)\n",
    "print(dog1.age)"
   ]
  },
  {
   "cell_type": "code",
   "execution_count": 10,
   "metadata": {},
   "outputs": [
    {
     "name": "stdout",
     "output_type": "stream",
     "text": [
      "CHINNU says woof\n"
     ]
    }
   ],
   "source": [
    "class Dog:\n",
    "    #constructor method to initailiaze atttributes\n",
    "    def __init__(self,  name , age):\n",
    "        self.name=name\n",
    "        self.age=age\n",
    "\n",
    "    def bark(self):\n",
    "        print(f\"{self.name} says woof\")\n",
    "\n",
    "dog1=Dog(\"CHINNU\", 2)\n",
    "dog1.bark()"
   ]
  },
  {
   "cell_type": "markdown",
   "metadata": {},
   "source": [
    "* self represents the current instance of the class,is a reference to the object being created or used.\n",
    "* Through self, you can access and modify the attributes and methods of the object.\n",
    "* An object is a specific realization (or instance) of that blueprint. A specific car like a \"Toyota Corolla\" is an object of the \"Car\" class.\n",
    "* Objects have attributes that hold data. Example: A car object may have attributes like color, brand, and model.\n",
    "* Objects have methods that define their behavior. Example: A car object may have methods like start_engine() or drive().\n",
    "\n",
    "\n"
   ]
  },
  {
   "cell_type": "code",
   "execution_count": 6,
   "metadata": {},
   "outputs": [
    {
     "name": "stdout",
     "output_type": "stream",
     "text": [
      "1000\n",
      "100 is deposited. New balance is 1100\n"
     ]
    }
   ],
   "source": [
    "class BankAccount:\n",
    "    def __init__(self, owner, balance=0):\n",
    "        self.owner=owner\n",
    "        self.balance=balance\n",
    "\n",
    "    def deposit(self,amount):\n",
    "        self.balance+=amount\n",
    "        print(f\"{amount} is deposited. New balance is {self.balance}\")\n",
    "    \n",
    "    def withdraw(self, amount):\n",
    "        if amount> self.balance:\n",
    "            print(\"Insufficient funds\")\n",
    "        else:\n",
    "            self.balance-=amount\n",
    "            print(f\"{amount} is withdrawn. new balance is {self.balance}\")\n",
    "    \n",
    "    def get_balance(self):\n",
    "        return self.balance\n",
    "    \n",
    "account=BankAccount(\"Krish\" , 1000)\n",
    "print(account.balance)\n",
    "\n",
    "#call instance methods\n",
    "account.deposit(100)\n",
    "    "
   ]
  },
  {
   "cell_type": "code",
   "execution_count": 8,
   "metadata": {},
   "outputs": [
    {
     "name": "stdout",
     "output_type": "stream",
     "text": [
      "500 is withdrawn. new balance is 100\n"
     ]
    }
   ],
   "source": [
    "account.withdraw(500)"
   ]
  },
  {
   "cell_type": "code",
   "execution_count": 9,
   "metadata": {},
   "outputs": [
    {
     "name": "stdout",
     "output_type": "stream",
     "text": [
      "100\n"
     ]
    }
   ],
   "source": [
    "print(account.get_balance())"
   ]
  },
  {
   "cell_type": "code",
   "execution_count": 13,
   "metadata": {},
   "outputs": [
    {
     "name": "stdout",
     "output_type": "stream",
     "text": [
      "Chinnu says woof\n"
     ]
    }
   ],
   "source": [
    "#Base cLass1\n",
    "class Animal:\n",
    "    def __init__(self, name):\n",
    "        self.name=name\n",
    "    \n",
    "    def speak(self):\n",
    "        print(\"Subclass must implements this method\")\n",
    "\n",
    "#Base Class2\n",
    "class Pet:\n",
    "    def __init__(self, owner):\n",
    "        self.owner=owner\n",
    "\n",
    "#Derived Class\n",
    "\n",
    "class Dog(Animal, Pet):\n",
    "    def __init__(self, name, owner):\n",
    "        Animal.__init__(self, name)\n",
    "        Pet.__init__(self, owner)\n",
    "\n",
    "    def  speak(self):\n",
    "        return f\"{self.name} says woof\"\n",
    "\n",
    "\n",
    "#Create an object\n",
    "dog=Dog(\"Chinnu\" , 'Krish')\n",
    "print(dog.speak())\n"
   ]
  },
  {
   "cell_type": "markdown",
   "metadata": {},
   "source": [
    "* Polymorphism allows objects of diff class to be treated as objcts of commom superclass\n",
    "* Method Overriding allows chils class to provide a spscific implementaion o fth emethod already defind in its parent class"
   ]
  },
  {
   "cell_type": "code",
   "execution_count": 6,
   "metadata": {},
   "outputs": [
    {
     "name": "stdout",
     "output_type": "stream",
     "text": [
      "Woof!\n",
      "meow!\n",
      "Woof!\n"
     ]
    }
   ],
   "source": [
    "# Base class:\n",
    "class Animal:\n",
    "    def speak(self):\n",
    "        return \"Sound of th eanimal\"\n",
    "    \n",
    "#Derived class1\n",
    "class Dog(Animal):\n",
    "    def speak(self):\n",
    "        return \"Woof!\"\n",
    "    \n",
    "#Derived class2\n",
    "class Cat(Animal):\n",
    "    def speak(self):\n",
    "        return \"meow!\"\n",
    "    \n",
    "#Func thta demonstrates polymorphism\n",
    "def animal_speak(animal):\n",
    "    print(animal.speak())\n",
    "    \n",
    "dog=Dog()\n",
    "print(dog.speak())\n",
    "cat=Cat()\n",
    "print(cat.speak())\n",
    "animal_speak(dog)\n"
   ]
  },
  {
   "cell_type": "code",
   "execution_count": 14,
   "metadata": {},
   "outputs": [
    {
     "name": "stdout",
     "output_type": "stream",
     "text": [
      "20\n",
      "12.56\n",
      "The area of the ahape is: 20\n",
      "The area of the ahape is: 12.56\n"
     ]
    }
   ],
   "source": [
    "# Polymorphism with functios and methods\n",
    "#Bse class\n",
    "class Shape:\n",
    "    def area(self):\n",
    "        print(\"The area of the figure\")\n",
    "\n",
    "#Derived class\n",
    "class Rectangle(Shape):\n",
    "    def __init__(self, height , width):\n",
    "        self.height=height\n",
    "        self.width=width\n",
    "\n",
    "    def area(self):                                 #Overwriting the function of the parent class\n",
    "        return self.height * self.width\n",
    "\n",
    "#Derived class2\n",
    "class Circle(Shape):\n",
    "    def __init__(self ,radius):\n",
    "        self.radius=radius\n",
    "\n",
    "    def area(self):\n",
    "        return 3.14 * self.radius * self.radius\n",
    "    \n",
    "#Function that demonstrates polynorphism\n",
    "def print_area(shape):\n",
    "    print(f\"The area of the ahape is: {shape.area()}\")\n",
    "\n",
    "rect=Rectangle(4,5)\n",
    "Crcle=Circle(2)\n",
    "print(rect.area())\n",
    "print(Crcle.area())\n",
    "print_area(rect)\n",
    "print_area(Crcle)\n",
    " "
   ]
  },
  {
   "cell_type": "markdown",
   "metadata": {},
   "source": [
    "* Encapsulation invloves bundling data and methods that operate on the data ona singl unit\n",
    "* It is the concept of  wrapping  data and methods together"
   ]
  },
  {
   "cell_type": "code",
   "execution_count": 22,
   "metadata": {},
   "outputs": [
    {
     "name": "stdout",
     "output_type": "stream",
     "text": [
      "Kia\n"
     ]
    },
    {
     "data": {
      "text/plain": [
       "['__class__',\n",
       " '__delattr__',\n",
       " '__dict__',\n",
       " '__dir__',\n",
       " '__doc__',\n",
       " '__eq__',\n",
       " '__format__',\n",
       " '__ge__',\n",
       " '__getattribute__',\n",
       " '__gt__',\n",
       " '__hash__',\n",
       " '__init__',\n",
       " '__init_subclass__',\n",
       " '__le__',\n",
       " '__lt__',\n",
       " '__module__',\n",
       " '__ne__',\n",
       " '__new__',\n",
       " '__reduce__',\n",
       " '__reduce_ex__',\n",
       " '__repr__',\n",
       " '__setattr__',\n",
       " '__sizeof__',\n",
       " '__str__',\n",
       " '__subclasshook__',\n",
       " '__weakref__',\n",
       " 'age',\n",
       " 'name']"
      ]
     },
     "execution_count": 22,
     "metadata": {},
     "output_type": "execute_result"
    }
   ],
   "source": [
    "#Encapsulation \n",
    "# Public,Protected and private variables or access modifiers\n",
    "class Person:\n",
    "    def __init__(self, name , age):\n",
    "        self.name=name\n",
    "        self.age=age     #Public var\n",
    "\n",
    "def get_name(person):     #Public var enables the use of method outside the constructor\n",
    "    return person.name\n",
    "        \n",
    "person=Person(\"Kia\" ,20)\n",
    "print(person.name)\n",
    "get_name(person)\n",
    "dir(person)"
   ]
  },
  {
   "cell_type": "code",
   "execution_count": 31,
   "metadata": {},
   "outputs": [
    {
     "ename": "AttributeError",
     "evalue": "'Person' object has no attribute '__name'",
     "output_type": "error",
     "traceback": [
      "\u001b[1;31m---------------------------------------------------------------------------\u001b[0m",
      "\u001b[1;31mAttributeError\u001b[0m                            Traceback (most recent call last)",
      "\u001b[1;32m~\\AppData\\Local\\Temp\\ipykernel_14212\\1563873433.py\u001b[0m in \u001b[0;36m<module>\u001b[1;34m\u001b[0m\n\u001b[0;32m     10\u001b[0m \u001b[0mperson\u001b[0m\u001b[1;33m=\u001b[0m\u001b[0mPerson\u001b[0m\u001b[1;33m(\u001b[0m\u001b[1;34m\"Ria\"\u001b[0m \u001b[1;33m,\u001b[0m \u001b[1;36m30\u001b[0m \u001b[1;33m,\u001b[0m \u001b[1;34m'M'\u001b[0m\u001b[1;33m)\u001b[0m\u001b[1;33m\u001b[0m\u001b[1;33m\u001b[0m\u001b[0m\n\u001b[0;32m     11\u001b[0m \u001b[0mdir\u001b[0m\u001b[1;33m(\u001b[0m\u001b[0mperson\u001b[0m\u001b[1;33m)\u001b[0m\u001b[1;33m\u001b[0m\u001b[1;33m\u001b[0m\u001b[0m\n\u001b[1;32m---> 12\u001b[1;33m \u001b[0mget_name\u001b[0m\u001b[1;33m(\u001b[0m\u001b[0mperson\u001b[0m\u001b[1;33m)\u001b[0m\u001b[1;33m\u001b[0m\u001b[1;33m\u001b[0m\u001b[0m\n\u001b[0m",
      "\u001b[1;32m~\\AppData\\Local\\Temp\\ipykernel_14212\\1563873433.py\u001b[0m in \u001b[0;36mget_name\u001b[1;34m(person)\u001b[0m\n\u001b[0;32m      6\u001b[0m \u001b[1;33m\u001b[0m\u001b[0m\n\u001b[0;32m      7\u001b[0m \u001b[1;32mdef\u001b[0m \u001b[0mget_name\u001b[0m\u001b[1;33m(\u001b[0m\u001b[0mperson\u001b[0m\u001b[1;33m)\u001b[0m\u001b[1;33m:\u001b[0m\u001b[1;33m\u001b[0m\u001b[1;33m\u001b[0m\u001b[0m\n\u001b[1;32m----> 8\u001b[1;33m     \u001b[1;32mreturn\u001b[0m \u001b[0mperson\u001b[0m\u001b[1;33m.\u001b[0m\u001b[0m__name\u001b[0m     \u001b[1;31m#Thus using this wil not enabl eto acces the name of the person as it is a private var\u001b[0m\u001b[1;33m\u001b[0m\u001b[1;33m\u001b[0m\u001b[0m\n\u001b[0m\u001b[0;32m      9\u001b[0m \u001b[1;33m\u001b[0m\u001b[0m\n\u001b[0;32m     10\u001b[0m \u001b[0mperson\u001b[0m\u001b[1;33m=\u001b[0m\u001b[0mPerson\u001b[0m\u001b[1;33m(\u001b[0m\u001b[1;34m\"Ria\"\u001b[0m \u001b[1;33m,\u001b[0m \u001b[1;36m30\u001b[0m \u001b[1;33m,\u001b[0m \u001b[1;34m'M'\u001b[0m\u001b[1;33m)\u001b[0m\u001b[1;33m\u001b[0m\u001b[1;33m\u001b[0m\u001b[0m\n",
      "\u001b[1;31mAttributeError\u001b[0m: 'Person' object has no attribute '__name'"
     ]
    }
   ],
   "source": [
    "\n",
    "class Person:\n",
    "    def __init__(self, name , age, gender):\n",
    "        self.__name=name    #Private var is displayed in th edir with th eclas nmae\n",
    "        self.__age=age      #Private var cannot b eaccessed from outside the class even in case of derived class\n",
    "        self.gender=gender\n",
    "\n",
    "def get_name(person):     \n",
    "    return person.__name     #Thus using this wil not enabl eto acces the name of the person as it is a private var\n",
    "\n",
    "person=Person(\"Ria\" , 30 , 'M')\n",
    "dir(person)\n",
    "get_name(person)"
   ]
  },
  {
   "cell_type": "code",
   "execution_count": 38,
   "metadata": {},
   "outputs": [
    {
     "name": "stdout",
     "output_type": "stream",
     "text": [
      "kaira\n"
     ]
    }
   ],
   "source": [
    "#Base Class\n",
    "class Person:\n",
    "    def __init__(self, name , age , gender):\n",
    "        self._name=name  #Protected var can not be accessed from outside the class \n",
    "        self._age=age     #But can beaccessed from the derived class\n",
    "        self.gender=gender\n",
    "\n",
    "#Derived class\n",
    "class Employee(Person):\n",
    "    def __init__(self, name, age, gender):\n",
    "        super().__init__(name, age, gender)\n",
    "\n",
    "employee=Employee(\"kaira\" , 28 , 'F')\n",
    "print(employee._name)"
   ]
  },
  {
   "cell_type": "code",
   "execution_count": 42,
   "metadata": {},
   "outputs": [
    {
     "name": "stdout",
     "output_type": "stream",
     "text": [
      "Kiara\n",
      "20\n",
      "35\n",
      "Age cannot be negative\n"
     ]
    }
   ],
   "source": [
    "#Encapsulation with Getter and setter \n",
    "class Person:\n",
    "    def __init__(self, name , age):\n",
    "        self.__name = name  #Private access modifier\n",
    "        self.__age=age\n",
    "    \n",
    "#In order to access the var outside the class \n",
    "    #Getter method for name\n",
    "    def get_name(self):\n",
    "        return self.__name\n",
    "    \n",
    "    #Setter method for name\n",
    "    def set_name(self, name):\n",
    "        self.__name=name\n",
    "\n",
    "\n",
    "    #Getter method for age\n",
    "    def get_age(self):\n",
    "        return self.__age\n",
    "    \n",
    "    #Setter method for age\n",
    "    def set_age(self, age):\n",
    "        if age>0:\n",
    "            self.__age=age\n",
    "        else:\n",
    "            print(\"Age cannot be negative\")\n",
    "\n",
    "person=Person(\"Kiara\" , 20)\n",
    "    \n",
    "    #Access and modify var using getter and setter\n",
    "print(person.get_name())\n",
    "print(person.get_age())\n",
    "\n",
    "person.set_age(35)\n",
    "print(person.get_age())\n",
    "\n",
    "person.set_age(-5)\n",
    "\n",
    "\n",
    "    \n",
    "\n",
    "        \n"
   ]
  },
  {
   "cell_type": "markdown",
   "metadata": {},
   "source": [
    "* Abstraction - Hiding the complex implementation details and  showing only th essential details"
   ]
  },
  {
   "cell_type": "code",
   "execution_count": 2,
   "metadata": {},
   "outputs": [
    {
     "name": "stdout",
     "output_type": "stream",
     "text": [
      "Car engine has started\n"
     ]
    }
   ],
   "source": [
    "from abc import ABC, abstractmethod\n",
    "\n",
    "class Vehicle(ABC):\n",
    "    def drive(self):\n",
    "        print(\"The vehicle is used for driving\")\n",
    "\n",
    "    @abstractmethod\n",
    "    def start_engine(self):\n",
    "        pass\n",
    "\n",
    "class Car(Vehicle):\n",
    "    def start_engine(self):\n",
    "        print(\"Car engine has started\")\n",
    "\n",
    "def operate_vehicle(vehicle):\n",
    "    vehicle.start_engine()\n",
    "\n",
    "car=Car()\n",
    "operate_vehicle(car)\n"
   ]
  },
  {
   "cell_type": "markdown",
   "metadata": {},
   "source": [
    "# MAGIC METHODS"
   ]
  },
  {
   "cell_type": "markdown",
   "metadata": {},
   "source": [
    "* MAGIC Methdods:(DUNDER METHODS)\n",
    "- Special methods that start and end with double underscores\n",
    "- Predefined methods that you can override to chage the behaviour of the object.\n"
   ]
  },
  {
   "cell_type": "code",
   "execution_count": 2,
   "metadata": {},
   "outputs": [
    {
     "data": {
      "text/plain": [
       "'\\n__init__ : Initilaizes a new instance of class\\n__str__  : Returns a string representaion of th eoject\\n__repr__ : Returns a official string representation of the object\\n__len__  : Return th elength of an object\\n__getitem__ : Gets an item from the container\\n__setitem__ : SEts an item from th econtainer\\n\\n'"
      ]
     },
     "execution_count": 2,
     "metadata": {},
     "output_type": "execute_result"
    }
   ],
   "source": [
    "'''\n",
    "__init__ : Initilaizes a new instance of class\n",
    "__str__  : Returns a string representaion of th eoject\n",
    "__repr__ : Returns a official string representation of the object\n",
    "__len__  : Return th elength of an object\n",
    "__getitem__ : Gets an item from the container\n",
    "__setitem__ : SEts an item from th econtainer\n",
    "\n",
    "'''"
   ]
  },
  {
   "cell_type": "code",
   "execution_count": 4,
   "metadata": {},
   "outputs": [
    {
     "data": {
      "text/plain": [
       "['__class__',\n",
       " '__delattr__',\n",
       " '__dict__',\n",
       " '__dir__',\n",
       " '__doc__',\n",
       " '__eq__',\n",
       " '__format__',\n",
       " '__ge__',\n",
       " '__getattribute__',\n",
       " '__gt__',\n",
       " '__hash__',\n",
       " '__init__',\n",
       " '__init_subclass__',\n",
       " '__le__',\n",
       " '__lt__',\n",
       " '__module__',\n",
       " '__ne__',\n",
       " '__new__',\n",
       " '__reduce__',\n",
       " '__reduce_ex__',\n",
       " '__repr__',\n",
       " '__setattr__',\n",
       " '__sizeof__',\n",
       " '__str__',\n",
       " '__subclasshook__',\n",
       " '__weakref__']"
      ]
     },
     "execution_count": 4,
     "metadata": {},
     "output_type": "execute_result"
    }
   ],
   "source": [
    "class Person:\n",
    "    pass\n",
    "person=Person()\n",
    "dir(person)     #Prints alll th emagic methods of the class"
   ]
  },
  {
   "cell_type": "code",
   "execution_count": 6,
   "metadata": {},
   "outputs": [
    {
     "name": "stdout",
     "output_type": "stream",
     "text": [
      "<__main__.Person object at 0x0000028C8FF604F0>\n"
     ]
    }
   ],
   "source": [
    "class Person:\n",
    "    def __init__ (self,name , age):\n",
    "        self.nmae=name\n",
    "        self.age=age\n",
    "\n",
    "person=Person(\"Krisha\" , 20)\n",
    "print(person)    #Printing the object gives its addreess using __str__ will gibve the string represntaion of the object\n"
   ]
  },
  {
   "cell_type": "code",
   "execution_count": 8,
   "metadata": {},
   "outputs": [
    {
     "name": "stdout",
     "output_type": "stream",
     "text": [
      "Krisha, 20\n"
     ]
    }
   ],
   "source": [
    "class Person:\n",
    "    def __init__ (self,name , age):\n",
    "        self.name=name\n",
    "        self.age=age\n",
    "\n",
    "\n",
    "    def __str__(self):\n",
    "        return f\"{self.name}, {self.age}\"\n",
    "\n",
    "person=Person(\"Krisha\" , 20)\n",
    "print(person)"
   ]
  },
  {
   "cell_type": "markdown",
   "metadata": {},
   "source": [
    "# Operator OVerloading"
   ]
  },
  {
   "cell_type": "markdown",
   "metadata": {},
   "source": [
    "- ALlows you to define the behaviour of operators\n",
    "- You can achiev ethis overriding the specific magic methods"
   ]
  },
  {
   "cell_type": "code",
   "execution_count": 9,
   "metadata": {},
   "outputs": [
    {
     "data": {
      "text/plain": [
       "'\\nCOMMON OPERATOR OVERLOADING METHODS\\n\\n__add__(self,other): Adds two objects using the + operatr\\n__sub__(self,other):  Subtract two objects\\n__mul__(self,other): MUltiplies two objects\\n__truediv__(self,other): divides two objects\\n__eq__(self,other):  Chceks if two objects are equal\\n__lt__(self,other): checks one objects are less than other\\n\\n'"
      ]
     },
     "execution_count": 9,
     "metadata": {},
     "output_type": "execute_result"
    }
   ],
   "source": [
    "'''\n",
    "COMMON OPERATOR OVERLOADING METHODS\n",
    "\n",
    "__add__(self,other): Adds two objects using the + operatr\n",
    "__sub__(self,other):  Subtract two objects\n",
    "__mul__(self,other): MUltiplies two objects\n",
    "__truediv__(self,other): divides two objects\n",
    "__eq__(self,other):  Chceks if two objects are equal\n",
    "__lt__(self,other): checks one objects are less than other\n",
    "__gt__()\n",
    "'''"
   ]
  },
  {
   "cell_type": "code",
   "execution_count": 23,
   "metadata": {},
   "outputs": [
    {
     "name": "stdout",
     "output_type": "stream",
     "text": [
      "Vector((6, 8))\n",
      "Vector((-2, -2))\n",
      "Vector((4, 6))\n",
      "False\n"
     ]
    }
   ],
   "source": [
    "class Vector:\n",
    "    def __init__(self,x, y):\n",
    "        self.x=x\n",
    "        self.y=y\n",
    "\n",
    "    def __add__(self,other):\n",
    "        return Vector(self.x+other.x , self.y + other.y)\n",
    "    \n",
    "\n",
    "    def __sub__(self,other):\n",
    "        return Vector(self.x - other.x , self.y - other.y)\n",
    "    \n",
    "    def __mul__(self,other):\n",
    "        return Vector(self.x * other , self.y * other)\n",
    "    \n",
    "    def __eq__(self,other):\n",
    "        return self.x == other.x  and self.y == other.y\n",
    "    \n",
    "    \n",
    "    def __repr__(self):\n",
    "        return f\"Vector({self.x , self.y})\"\n",
    "    \n",
    "v1=Vector(2,3)\n",
    "v2=Vector(4,5)\n",
    "print(v1+v2)\n",
    "print(v1-v2)\n",
    "print(v1*2)\n",
    "print(v1 == v2)"
   ]
  },
  {
   "cell_type": "markdown",
   "metadata": {},
   "source": [
    "* CUSTOM EXCEPTION"
   ]
  },
  {
   "cell_type": "code",
   "execution_count": 33,
   "metadata": {},
   "outputs": [],
   "source": [
    "class Error(Exception):   #Any class that we craete should inherit this clas\n",
    "    pass\n",
    "\n",
    "class DOBException(Error):  \n",
    "    pass"
   ]
  },
  {
   "cell_type": "code",
   "execution_count": 34,
   "metadata": {},
   "outputs": [
    {
     "name": "stdout",
     "output_type": "stream",
     "text": [
      "your age is not acceptable\n"
     ]
    }
   ],
   "source": [
    "year=int(input('Please enter the age'))\n",
    "age=2024-year\n",
    "\n",
    "try:\n",
    "    if age<=30 and age>=20:\n",
    "        print(\" the age is valid for the exam\")\n",
    "\n",
    "    else:\n",
    "        raise DOBException\n",
    "except DOBException :\n",
    "    print(\"your age is not acceptable\")"
   ]
  },
  {
   "cell_type": "code",
   "execution_count": null,
   "metadata": {},
   "outputs": [],
   "source": []
  }
 ],
 "metadata": {
  "kernelspec": {
   "display_name": "base",
   "language": "python",
   "name": "python3"
  },
  "language_info": {
   "codemirror_mode": {
    "name": "ipython",
    "version": 3
   },
   "file_extension": ".py",
   "mimetype": "text/x-python",
   "name": "python",
   "nbconvert_exporter": "python",
   "pygments_lexer": "ipython3",
   "version": "3.9.13"
  }
 },
 "nbformat": 4,
 "nbformat_minor": 2
}
