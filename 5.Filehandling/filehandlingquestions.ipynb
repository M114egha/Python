{
 "cells": [
  {
   "cell_type": "markdown",
   "metadata": {},
   "source": [
    "# Module: File Handling Assignments\n",
    "## Lesson: File Handling and Operations\n",
    "### Assignment 1: Reading a File\n",
    "\n",
    "Write a function that reads the contents of a file named `sample.txt` and prints each line.\n",
    "\n",
    "### Assignment 2: Writing to a File\n",
    "\n",
    "Write a function that writes a list of strings to a file named `output.txt`, with each string on a new line.\n",
    "\n",
    "### Assignment 3: Copying a File\n",
    "\n",
    "Write a function that copies the contents of a file named `source.txt` to a new file named `destination.txt`.\n",
    "\n",
    "### Assignment 4: Appending to a File\n",
    "\n",
    "Write a function that appends a given string to the end of a file named `log.txt`.\n",
    "\n",
    "### Assignment 5: Counting Words in a File\n",
    "\n",
    "Write a function that reads the contents of a file named `document.txt` and returns the number of words in the file.\n",
    "\n",
    "### Assignment 6: Finding and Replacing Text\n",
    "\n",
    "Write a function that finds and replaces all occurrences of a given word in a file named `data.txt` with another word.\n",
    "\n",
    "### Assignment 7: Reading a File in Reverse\n",
    "\n",
    "Write a function that reads the contents of a file named `reverse.txt` and prints each line in reverse order.\n",
    "\n",
    "### Assignment 8: Counting Lines, Words, and Characters\n",
    "\n",
    "Write a function that reads the contents of a file named `stats.txt` and returns the number of lines, words, and characters in the file.\n",
    "\n",
    "### Assignment 9: Merging Multiple Files\n",
    "\n",
    "Write a function that merges the contents of multiple files into a single file named `merged.txt`.\n",
    "\n",
    "### Assignment 10: Splitting a Large File\n",
    "\n",
    "Write a function that splits a large file named `large.txt` into smaller files of 100 lines each.\n",
    "\n",
    "### Assignment 11: Creating a Log File\n",
    "\n",
    "Write a function that creates a log file named `activity.log` and writes log messages with timestamps.\n",
    "\n",
    "### Assignment 12: Binary File Operations\n",
    "\n",
    "Write a function that reads a binary file named `image.bin` and writes its contents to another binary file named `copy_image.bin`.\n",
    "\n",
    "### Assignment 13: CSV File Operations\n",
    "\n",
    "Write a function that reads a CSV file named `data.csv` and prints its contents as a list of dictionaries.\n",
    "\n",
    "### Assignment 14: JSON File Operations\n",
    "\n",
    "Write a function that reads a JSON file named `data.json` and prints its contents as a Python dictionary.\n",
    "\n",
    "### Assignment 15: File Permission Handling\n",
    "\n",
    "Write a function that attempts to read a file named `protected.txt` and handles any permission errors gracefully by printing an error message."
   ]
  },
  {
   "cell_type": "code",
   "execution_count": null,
   "metadata": {},
   "outputs": [],
   "source": []
  },
  {
   "cell_type": "code",
   "execution_count": 3,
   "id": "31bcce9a",
   "metadata": {},
   "outputs": [
    {
     "name": "stdout",
     "output_type": "stream",
     "text": [
      "Hello everyone\n",
      "This is th new linw.Append op taking place\n",
      "Append op taking place\n",
      "First line\n",
      "Second line\n",
      "Third line\n",
      "None\n"
     ]
    }
   ],
   "source": [
    "def read_file(filename):\n",
    "    with open(filename,'r')as file:\n",
    "        for line in file:\n",
    "            print(line.strip())\n",
    "\n",
    "print(read_file('example.txt'))\n",
    "\n",
    "        \n"
   ]
  },
  {
   "cell_type": "code",
   "execution_count": 8,
   "id": "a7c2b2d3",
   "metadata": {},
   "outputs": [],
   "source": [
    "def write_file(lines,filename):\n",
    "    with open(filename,'w')as file:\n",
    "        for line in lines:\n",
    "            file.write(line + '\\n')\n",
    "write_file(['helllli','Everrrryyyonee'],'example.txt')\n",
    "\n",
    "\n",
    "\n",
    "# write_file(['Hello', 'World'], 'output.txt')"
   ]
  },
  {
   "cell_type": "code",
   "execution_count": 9,
   "id": "0c150f55",
   "metadata": {},
   "outputs": [],
   "source": [
    "'''Write a function that copies the contents\n",
    "of a file named `source.txt` to a new file named `destination.txt`.'''\n",
    "\n",
    "def copy_file(source , destination):\n",
    "    with open(source,'r')as src:\n",
    "        with open(destination,'w') as dest:\n",
    "            dest.write(src.read())"
   ]
  },
  {
   "cell_type": "code",
   "execution_count": 11,
   "id": "b2ace885",
   "metadata": {},
   "outputs": [],
   "source": [
    "'''Write a function that appends a given string to the end of a file named `log.txt`a'''\n",
    "def append(str,filename):\n",
    "    with open(filename,'a')as file:\n",
    "        file.write(str + '\\n')\n",
    "\n",
    "append('this is me' , \"example.txt\")"
   ]
  },
  {
   "cell_type": "code",
   "execution_count": 12,
   "id": "a6504be1",
   "metadata": {},
   "outputs": [
    {
     "data": {
      "text/plain": [
       "5"
      ]
     },
     "execution_count": 12,
     "metadata": {},
     "output_type": "execute_result"
    }
   ],
   "source": [
    "def count_words(filename):\n",
    "    with open(filename ,'r') as file:\n",
    "        text=file.read()\n",
    "        words=text.split()\n",
    "        return len(words)\n",
    "    \n",
    "count_words('example.txt')"
   ]
  },
  {
   "cell_type": "code",
   "execution_count": 17,
   "id": "f6fc2711",
   "metadata": {},
   "outputs": [],
   "source": [
    "def find_replace(filename, old_word, new_word):\n",
    "    with open(filename ,'r')as file:\n",
    "        text=file.read()\n",
    "    new_text=text.replace(old_word, new_word)\n",
    "    with open(filename , 'w') as file:\n",
    "        file.write(new_text)\n",
    "find_replace('example.txt' ,'me' , 'Meghna')"
   ]
  },
  {
   "cell_type": "code",
   "execution_count": 23,
   "metadata": {},
   "outputs": [
    {
     "data": {
      "text/plain": [
       "(3, 5, 43)"
      ]
     },
     "execution_count": 23,
     "metadata": {},
     "output_type": "execute_result"
    }
   ],
   "source": [
    "def count_lwc (filename):\n",
    "    with open(filename ,'r') as file:\n",
    "        lines=file.readlines()\n",
    "        words= sum(len(line.split())  for line in lines)\n",
    "        char=sum(len(line) for line in lines)\n",
    "        return len(lines) , words , char\n",
    "count_lwc('example.txt')"
   ]
  },
  {
   "cell_type": "code",
   "execution_count": 1,
   "id": "07532315",
   "metadata": {},
   "outputs": [],
   "source": [
    "def merge_files(file_list, output_file):\n",
    "    with open(output_file,'w') as outfile:\n",
    "        for fname in file_list:\n",
    "            with open(fname , 'r') as infile:\n",
    "                outfile.write(infile.read())"
   ]
  },
  {
   "cell_type": "code",
   "execution_count": 3,
   "id": "a016b11f",
   "metadata": {},
   "outputs": [],
   "source": [
    "def split_file(filename, lines_per_file):\n",
    "    with open(filename , 'r') as file:\n",
    "        lines=file.readlines()\n",
    "        for i in range(0 ,len(lines), lines_per_file):\n",
    "            with open(f'{filename}_part{i//lines_per_file+1}.txt' , 'w') as partfile:\n",
    "                partfile.writelines(lines[i:i + lines_per_file])"
   ]
  },
  {
   "cell_type": "code",
   "execution_count": 4,
   "id": "432827bd",
   "metadata": {},
   "outputs": [],
   "source": [
    "import datetime\n",
    "def log_msg( message ,  filename='activity.log'):\n",
    "    timestamp=datetime.datetime.now().isoformat()\n",
    "    with open(filename, 'a') as file:\n",
    "        file.write(f'[{timestamp}] {message} \\n')\n",
    "\n",
    "log_msg('This is a log message.')"
   ]
  },
  {
   "cell_type": "code",
   "execution_count": 1,
   "id": "686520bb",
   "metadata": {},
   "outputs": [],
   "source": [
    "def copy_file(source, destination):\n",
    "    with open(source , 'rb') as src:\n",
    "        with open(destination , 'wb') as dest:\n",
    "            destination.write(src.read())"
   ]
  },
  {
   "cell_type": "code",
   "execution_count": 2,
   "id": "c4b7f03f",
   "metadata": {},
   "outputs": [],
   "source": [
    "import csv\n",
    "\n",
    "def read_csv(filename):\n",
    "    with open(filename , 'r') as file:\n",
    "        reader=csv.DictReader(file)\n",
    "        return list(reader)"
   ]
  },
  {
   "cell_type": "code",
   "execution_count": 3,
   "id": "7473c55d",
   "metadata": {},
   "outputs": [],
   "source": [
    "import json\n",
    "\n",
    "def read_json(filename):\n",
    "    with open(filename , 'r') as file:\n",
    "        data=json.load(file)\n",
    "        return data\n"
   ]
  },
  {
   "cell_type": "code",
   "execution_count": 4,
   "id": "abf94236",
   "metadata": {},
   "outputs": [],
   "source": [
    "def read_protected_file(filename):\n",
    "    try:\n",
    "        with open(filename, 'r') as file:\n",
    "            print(file.read())\n",
    "    except PermissionError as e:\n",
    "        print(f\"Permission Error:{e}\")"
   ]
  },
  {
   "cell_type": "code",
   "execution_count": null,
   "id": "4801df3e",
   "metadata": {},
   "outputs": [],
   "source": []
  }
 ],
 "metadata": {
  "kernelspec": {
   "display_name": "base",
   "language": "python",
   "name": "python3"
  },
  "language_info": {
   "codemirror_mode": {
    "name": "ipython",
    "version": 3
   },
   "file_extension": ".py",
   "mimetype": "text/x-python",
   "name": "python",
   "nbconvert_exporter": "python",
   "pygments_lexer": "ipython3",
   "version": "3.9.13"
  }
 },
 "nbformat": 4,
 "nbformat_minor": 5
}
