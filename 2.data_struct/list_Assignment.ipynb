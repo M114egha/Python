{
 "cells": [
  {
   "cell_type": "markdown",
   "metadata": {},
   "source": [
    "# Module 3: Data Structures Assignments\n",
    "## Lesson 3.1: Lists\n",
    "### Assignment 1: Creating and Accessing Lists\n",
    "\n",
    "Create a list of the first 20 positive integers. Print the list.\n",
    "\n",
    "### Assignment 2: Accessing List Elements\n",
    "\n",
    "Print the first, middle, and last elements of the list created in Assignment 1.\n",
    "\n",
    "### Assignment 3: List Slicing\n",
    "\n",
    "Print the first five elements, the last five elements, and the elements from index 5 to 15 of the list created in Assignment 1.\n",
    "\n",
    "### Assignment 4: List Comprehensions\n",
    "\n",
    "Create a new list containing the squares of the first 10 positive integers using a list comprehension. Print the new list.\n",
    "\n",
    "### Assignment 5: Filtering Lists\n",
    "\n",
    "Create a new list containing only the even numbers from the list created in Assignment 1 using a list comprehension. Print the new list.\n",
    "\n",
    "### Assignment 6: List Methods\n",
    "\n",
    "Create a list of random numbers and sort it in ascending and descending order. Remove the duplicates from the list and print the modified list.\n",
    "\n",
    "### Assignment 7: Nested Lists\n",
    "\n",
    "Create a nested list representing a 3x3 matrix and print the matrix. Access and print the element at the second row and third column.\n",
    "\n",
    "### Assignment 8: List of Dictionaries\n",
    "\n",
    "Create a list of dictionaries where each dictionary represents a student with keys 'name' and 'score'. Sort the list of dictionaries by the 'score' in descending order and print the sorted list.\n",
    "\n",
    "### Assignment 9: Matrix Transposition\n",
    "\n",
    "Write a function that takes a 3x3 matrix (nested list) as input and returns its transpose. Print the original and transposed matrices.\n",
    "\n",
    "### Assignment 10: Flattening a Nested List\n",
    "\n",
    "Write a function that takes a nested list and flattens it into a single list. Print the original and flattened lists.\n",
    "\n",
    "### Assignment 11: List Manipulation\n",
    "\n",
    "Create a list of the first 10 positive integers. Remove the elements at indices 2, 4, and 6, and insert the element '99' at index 5. Print the modified list.\n",
    "\n",
    "### Assignment 12: List Zipping\n",
    "\n",
    "Create two lists of the same length. Use the `zip` function to combine these lists into a list of tuples and print the result.\n",
    "\n",
    "### Assignment 13: List Reversal\n",
    "\n",
    "Write a function that takes a list and returns a new list with the elements in reverse order. Print the original and reversed lists.\n",
    "\n",
    "### Assignment 14: List Rotation\n",
    "\n",
    "Write a function that rotates a list by n positions. Print the original and rotated lists.\n",
    "\n",
    "### Assignment 15: List Intersection\n",
    "\n",
    "Write a function that takes two lists and returns a new list containing only the elements that are present in both lists. Print the intersected list."
   ]
  },
  {
   "cell_type": "code",
   "execution_count": 2,
   "metadata": {},
   "outputs": [
    {
     "name": "stdout",
     "output_type": "stream",
     "text": [
      "[0, 1, 2, 3, 4, 5, 6, 7, 8, 9, 10, 11, 12, 13, 14, 15, 16, 17, 18, 19, 20]\n"
     ]
    }
   ],
   "source": [
    "#Create a list of the first 20 positive integers. Print the list.\n",
    "lst=[ num for num in range(21) ]\n",
    "print(lst)"
   ]
  },
  {
   "cell_type": "code",
   "execution_count": 12,
   "id": "9a78b94a",
   "metadata": {},
   "outputs": [
    {
     "name": "stdout",
     "output_type": "stream",
     "text": [
      "first element: {0}\n",
      "middle ele {10}\n",
      "last ele {20}\n"
     ]
    }
   ],
   "source": [
    "#Print the first, middle, and last elements of the list created in Assignment 1.\n",
    "print(f\"first element:\",{lst[0]})\n",
    "print(f\"middle ele\",{len(lst)//2})\n",
    "print(f\"last ele\",{lst[-1]})"
   ]
  },
  {
   "cell_type": "code",
   "execution_count": 17,
   "id": "8662b9a8",
   "metadata": {},
   "outputs": [
    {
     "name": "stdout",
     "output_type": "stream",
     "text": [
      "the first five elements,[0, 1, 2, 3, 4]\n",
      "the elements from index 5 to 15,[5, 6, 7, 8, 9, 10, 11, 12, 13, 14, 15]\n",
      "the last five elements,[16, 17, 18, 19, 20]\n"
     ]
    }
   ],
   "source": [
    "#Print the first five elements, the last five elements, \n",
    "#  and the elements from index 5 to 15 of the list created in Assignment 1.\n",
    "\n",
    "print(f\"the first five elements,{lst[:5]}\")\n",
    "print(f\"the elements from index 5 to 15,{lst[5:16]}\")\n",
    "print(f\"the last five elements,{lst[-5:]}\")"
   ]
  },
  {
   "cell_type": "code",
   "execution_count": 20,
   "id": "0bebf4ff",
   "metadata": {},
   "outputs": [
    {
     "name": "stdout",
     "output_type": "stream",
     "text": [
      "[1, 4, 9, 16, 25, 36, 49, 64, 81, 100]\n"
     ]
    }
   ],
   "source": [
    "#Create a new list containing the squares of the first 10 positive integers using a list comprehension.\n",
    "#  Print the new list.\n",
    "sqlst=[num**2 for num in range(1,11)]\n",
    "print(sqlst)"
   ]
  },
  {
   "cell_type": "code",
   "execution_count": 21,
   "id": "30ea35dc",
   "metadata": {},
   "outputs": [
    {
     "name": "stdout",
     "output_type": "stream",
     "text": [
      "[2, 4, 6, 8, 10, 12, 14, 16, 18, 20]\n"
     ]
    }
   ],
   "source": [
    "#Create a new list containing only the even numbers from the list created in Assignment 1 \n",
    "# using a list comprehension. Print the new list.\n",
    "evenlst=[num for num in range(1,21) if num%2==0]\n",
    "print(evenlst)"
   ]
  },
  {
   "cell_type": "code",
   "execution_count": 27,
   "id": "24ba4657",
   "metadata": {},
   "outputs": [
    {
     "name": "stdout",
     "output_type": "stream",
     "text": [
      "Original list: [7, 8, 20, 3, 14, 20, 19, 3, 14, 3, 5, 12, 6, 15, 10]\n",
      "Sorted in ascending order: [3, 3, 3, 5, 6, 7, 8, 10, 12, 14, 14, 15, 19, 20, 20]\n",
      "Sorted in descending order: [20, 20, 19, 15, 14, 14, 12, 10, 8, 7, 6, 5, 3, 3, 3]\n",
      "List with duplicates removed: [3, 5, 6, 7, 8, 10, 12, 14, 15, 19, 20]\n"
     ]
    }
   ],
   "source": [
    "#Create a list of random numbers and sort it in ascending and descending order.\n",
    "#  Remove the duplicates from the list and print the modified list.\n",
    "import random\n",
    "\n",
    "random_no=[random.randint(1,20) for _ in range(15)]\n",
    "print(f\"Original list: {random_no}\")\n",
    "\n",
    "\n",
    "sorted_no = sorted(random_no)\n",
    "print(f\"Sorted in ascending order: {sorted_no}\")\n",
    "\n",
    "sorted_numbers_desc = sorted(random_no, reverse=True)\n",
    "print(f\"Sorted in descending order: {sorted_numbers_desc}\")\n",
    "\n",
    "unique_numbers = list(set(random_no))\n",
    "print(f\"List with duplicates removed: {unique_numbers}\")"
   ]
  },
  {
   "cell_type": "code",
   "execution_count": 33,
   "id": "340e7089",
   "metadata": {},
   "outputs": [
    {
     "name": "stdout",
     "output_type": "stream",
     "text": [
      "matrix\n",
      "[1, 2, 3]\n",
      "[4, 5, 6]\n",
      "[7, 8, 9]\n",
      "Element at second row and third column: 6\n"
     ]
    }
   ],
   "source": [
    "#Create a nested list representing a 3x3 matrix and print the matrix. \n",
    "# Access and print the element at the second row and third column.\n",
    "\n",
    "matrix = [\n",
    "    [1, 2, 3],\n",
    "    [4, 5, 6],\n",
    "    [7, 8, 9]\n",
    "]\n",
    "print(\"matrix\")\n",
    "for row in matrix:\n",
    "    print(row)\n",
    "    \n",
    "print(f\"Element at second row and third column: {matrix[1][2]}\")"
   ]
  },
  {
   "cell_type": "code",
   "execution_count": 3,
   "id": "41fc1209",
   "metadata": {},
   "outputs": [
    {
     "name": "stdout",
     "output_type": "stream",
     "text": [
      "Sorted students by score in descending order:\n",
      "{'name': 'Charlie', 'score': 95}\n",
      "{'name': 'Alice', 'score': 88}\n",
      "{'name': 'Eve', 'score': 78}\n",
      "{'name': 'Bob', 'score': 72}\n",
      "{'name': 'David', 'score': 65}\n"
     ]
    }
   ],
   "source": [
    "#Create a list of dictionaries where each dictionary represents a student with \n",
    "# keys 'name' and 'score'.\n",
    "#  Sort the list of dictionaries by the 'score' in descending order a\n",
    "# nd print the sorted list.\n",
    "\n",
    "students = [\n",
    "    {'name': 'Alice', 'score': 88},\n",
    "    {'name': 'Bob', 'score': 72},\n",
    "    {'name': 'Charlie', 'score': 95},\n",
    "    {'name': 'David', 'score': 65},\n",
    "    {'name': 'Eve', 'score': 78}\n",
    "]\n",
    "sorted_stud=sorted(students, key=lambda x:x['score'],reverse=True)\n",
    "print(\"Sorted students by score in descending order:\")\n",
    "for student in sorted_stud:\n",
    "    print(student)\n"
   ]
  },
  {
   "cell_type": "code",
   "execution_count": 11,
   "id": "0f0e6e33",
   "metadata": {},
   "outputs": [
    {
     "name": "stdout",
     "output_type": "stream",
     "text": [
      "3\n",
      "3\n",
      "Original matrix:\n",
      "[1, 2, 3]\n",
      "[4, 5, 6]\n",
      "[7, 8, 9]\n",
      "Transposed matrix:\n",
      "[1, 4, 7]\n",
      "[2, 5, 8]\n",
      "[3, 6, 9]\n"
     ]
    }
   ],
   "source": [
    "'''Write a function that takes a 3x3 matrix (nested list) as input\n",
    "and returns its transpose. Print the original and transposed matrices.'''\n",
    "\n",
    "\n",
    "def transpose_matrix(matrix):\n",
    "    transposed=[[matrix[j][i]for j in range(len(matrix))] for i in range(len(matrix[0]))]\n",
    "    return transposed\n",
    "matrix = [\n",
    "    [1, 2, 3],\n",
    "    [4, 5, 6],\n",
    "    [7, 8, 9]\n",
    "]\n",
    "print(len(matrix))  # return the no of rows\n",
    "print(len(matrix[0]))  #returns the no of columns\n",
    "\n",
    "transposed = transpose_matrix(matrix)\n",
    "print(\"Original matrix:\")\n",
    "for row in matrix:\n",
    "    print(row)\n",
    "print(\"Transposed matrix:\")\n",
    "for row in transposed:\n",
    "    print(row)\n",
    "\n",
    "\n",
    "\n"
   ]
  },
  {
   "cell_type": "code",
   "execution_count": 13,
   "id": "80cfc6ed",
   "metadata": {},
   "outputs": [
    {
     "name": "stdout",
     "output_type": "stream",
     "text": [
      "Original nested list:\n",
      "[[1, 2, 3], [4, 5, 6], [7, 8, 9]]\n",
      "Flattened list:\n",
      "[1, 2, 3, 4, 5, 6, 7, 8, 9]\n"
     ]
    }
   ],
   "source": [
    "#Write a function that takes a nested list and flattens it into a single list. \n",
    "# Print the original and flattened lists.\n",
    "def flatten_list(nested_list):\n",
    "    flat_list=[ item for sub_list in nested_list for item in sub_list]\n",
    "    return flat_list\n",
    "\n",
    "nested_list = [\n",
    "    [1, 2, 3],\n",
    "    [4, 5, 6],\n",
    "    [7, 8, 9]\n",
    "]\n",
    "flattened_list=flatten_list(nested_list)\n",
    "print(\"Original nested list:\")\n",
    "print(nested_list)\n",
    "print(\"Flattened list:\")\n",
    "print(flattened_list)\n",
    "\n"
   ]
  },
  {
   "cell_type": "code",
   "execution_count": 16,
   "id": "75454195",
   "metadata": {},
   "outputs": [
    {
     "name": "stdout",
     "output_type": "stream",
     "text": [
      "Modified list: [0, 1, 3, 5, 7, 99, 8, 9, 10]\n"
     ]
    }
   ],
   "source": [
    "'''Create a list of the first 10 positive integers. Remove the elements at indices 2, 4, \n",
    "and 6, and insert the element '99' at index 5. Print the modified list.'''\n",
    "lst=[num for num in range(11)]\n",
    "del lst[6]\n",
    "del lst[4]\n",
    "del lst[2]\n",
    "lst.insert(5, 99)\n",
    "print(f\"Modified list: {lst}\")"
   ]
  },
  {
   "cell_type": "code",
   "execution_count": 17,
   "id": "49061d17",
   "metadata": {},
   "outputs": [
    {
     "name": "stdout",
     "output_type": "stream",
     "text": [
      "[(1, 'a'), (2, 'b'), (3, 'c'), (4, 'd'), (5, 'e')]\n"
     ]
    }
   ],
   "source": [
    "'''Create two lists of the same length. \n",
    "Use the `zip` function to combine these lists into a list of tuples \n",
    "and print the result.'''\n",
    "\n",
    "list1 = [1, 2, 3, 4, 5]\n",
    "list2 = ['a', 'b', 'c', 'd', 'e']\n",
    "zipped_lst=list(zip(list1,list2))\n",
    "print(zipped_lst)"
   ]
  },
  {
   "cell_type": "code",
   "execution_count": 20,
   "id": "fb6cefe9",
   "metadata": {},
   "outputs": [
    {
     "name": "stdout",
     "output_type": "stream",
     "text": [
      "Original list: [1, 2, 3, 4, 5]\n",
      "Reversed list: [5, 4, 3, 2, 1]\n"
     ]
    }
   ],
   "source": [
    "'''Write a function that takes a list and eturns a new list with the elements in reverse order.\n",
    " Print the original and reversed lists.'''\n",
    "\n",
    "def reverse_list(list):\n",
    "    return list[::-1]\n",
    "\n",
    "original_list = [1, 2, 3, 4, 5]\n",
    "reversed_list = reverse_list(original_list)\n",
    "print(f\"Original list: {original_list}\")\n",
    "print(f\"Reversed list: {reversed_list}\")\n",
    "\n"
   ]
  },
  {
   "cell_type": "code",
   "execution_count": 21,
   "id": "2599cf21",
   "metadata": {},
   "outputs": [
    {
     "name": "stdout",
     "output_type": "stream",
     "text": [
      "Original list: [1, 2, 3, 4, 5]\n",
      "Rotated list: [3, 4, 5, 1, 2]\n"
     ]
    }
   ],
   "source": [
    "'''### Assignment 14: List Rotation\n",
    "\n",
    "Write a function that rotates a list by n positions. Print the original and rotated lists.'''\n",
    "\n",
    "def rotate_list(lst,n):\n",
    "    return lst[n:] + lst[:n]\n",
    "\n",
    "original_list = [1, 2, 3, 4, 5]\n",
    "rotated_list = rotate_list(original_list, 2)\n",
    "print(f\"Original list: {original_list}\")\n",
    "print(f\"Rotated list: {rotated_list}\")\n"
   ]
  },
  {
   "cell_type": "code",
   "execution_count": null,
   "id": "58b1a30c",
   "metadata": {},
   "outputs": [],
   "source": []
  }
 ],
 "metadata": {
  "kernelspec": {
   "display_name": "base",
   "language": "python",
   "name": "python3"
  },
  "language_info": {
   "codemirror_mode": {
    "name": "ipython",
    "version": 3
   },
   "file_extension": ".py",
   "mimetype": "text/x-python",
   "name": "python",
   "nbconvert_exporter": "python",
   "pygments_lexer": "ipython3",
   "version": "3.9.13"
  }
 },
 "nbformat": 4,
 "nbformat_minor": 5
}
