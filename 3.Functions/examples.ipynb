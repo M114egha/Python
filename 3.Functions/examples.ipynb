{
 "cells": [
  {
   "cell_type": "code",
   "execution_count": 2,
   "metadata": {},
   "outputs": [
    {
     "name": "stdout",
     "output_type": "stream",
     "text": [
      "122.0\n",
      "10.0\n"
     ]
    }
   ],
   "source": [
    "#Degree conversion\n",
    "def deg_conversion(temp,unit):\n",
    "    if unit=='C':\n",
    "        return temp * 9/5 +32\n",
    "    elif unit==\"F\":\n",
    "        return (temp -32)*5/9\n",
    "    else:\n",
    "        return None\n",
    "\n",
    "print(deg_conversion(50,'C'))\n",
    "print(deg_conversion(50,'F'))\n"
   ]
  },
  {
   "cell_type": "code",
   "execution_count": 6,
   "metadata": {},
   "outputs": [
    {
     "name": "stdout",
     "output_type": "stream",
     "text": [
      "False\n",
      "False\n",
      "True\n"
     ]
    }
   ],
   "source": [
    "#Paassword stsrength checker\n",
    "\n",
    "def is_strong_pass(password):\n",
    "    if len(password)<8:\n",
    "        return False\n",
    "    if not any(char.isdigit() for char in password):\n",
    "        return False\n",
    "    if not any(char.islower() for char in password):\n",
    "        return False\n",
    "    if not any(char.isupper() for char in password):\n",
    "        return False\n",
    "    if not any (char in \"@#$%&*^!\" for char in password):\n",
    "        return False\n",
    "    return True\n",
    "\n",
    "print(is_strong_pass(\"Megha23415\"))\n",
    "print(is_strong_pass(\"uefg\"))\n",
    "print(is_strong_pass(\"shRey@123\"))\n"
   ]
  },
  {
   "cell_type": "code",
   "execution_count": 4,
   "metadata": {},
   "outputs": [
    {
     "name": "stdout",
     "output_type": "stream",
     "text": [
      "510\n"
     ]
    }
   ],
   "source": [
    "#Calculatethe tota cost of items in a shopping cart\n",
    "def calculate_total_cost(cart):\n",
    "    total_cost=0\n",
    "    for item in cart:\n",
    "        total_cost+= item['price']* item[\"Quantity\"]\n",
    "    return total_cost\n",
    "\n",
    "\n",
    "cart=[\n",
    "    {'name':\"Apple\",\"price\":20 ,\"Quantity\": 4},\n",
    "    {'name':\"Banana \",\"price\":30 ,\"Quantity\": 2},\n",
    "    {'name':\"Chips \",\"price\":20 ,\"Quantity\": 5},\n",
    "    {'name':\"Grapes \",\"price\":30 ,\"Quantity\": 9}\n",
    "]\n",
    "\n",
    "total_cost=calculate_total_cost(cart)\n",
    "print(total_cost)"
   ]
  },
  {
   "cell_type": "code",
   "execution_count": 14,
   "metadata": {},
   "outputs": [
    {
     "name": "stdout",
     "output_type": "stream",
     "text": [
      "False\n",
      "True\n"
     ]
    }
   ],
   "source": [
    "# to check wheteher plaindrome or not\n",
    "\n",
    "def is_palind(string):\n",
    "    string=string.lower().replace(\" \",'')\n",
    "    return string==string[::-1]\n",
    "\n",
    "print(is_palind(\"A man is at the door\"))\n",
    "print(is_palind(\"A man a plan a canal Panama\"))"
   ]
  },
  {
   "cell_type": "code",
   "execution_count": 2,
   "metadata": {},
   "outputs": [
    {
     "name": "stdout",
     "output_type": "stream",
     "text": [
      "720\n"
     ]
    }
   ],
   "source": [
    "#Calculte he facyorial using recursion.\n",
    "def fact(num):\n",
    "    if num==1:\n",
    "        return 1\n",
    "    else:\n",
    "        return num * fact(num-1)\n",
    "\n",
    "print(fact(6))"
   ]
  },
  {
   "cell_type": "code",
   "execution_count": 3,
   "metadata": {},
   "outputs": [
    {
     "name": "stdout",
     "output_type": "stream",
     "text": [
      "{'hello': 2, 'my': 1, 'name': 1, 'is': 1, 'meghana': 1, 'and': 1, 'i': 1, 'am': 1, 'learning': 1, 'ml': 1}\n"
     ]
    }
   ],
   "source": [
    "#Function to read a file and count the freq of each word\n",
    "def count_word_freq(file_path):\n",
    "    word_count={}\n",
    "    with open(file_path,'r') as file:\n",
    "        for line in file:\n",
    "            words=line.split()\n",
    "            for word in words:\n",
    "                word=word.lower().strip(\".,!,/,?,$\")\n",
    "                word_count[word]=word_count.get(word,0)+1\n",
    "    return word_count\n",
    "\n",
    "word_freq=count_word_freq(\"sample.txt\")\n",
    "print(word_freq)"
   ]
  },
  {
   "cell_type": "markdown",
   "metadata": {},
   "source": [
    "## LAMBDA fUNCTION\n",
    "#### Small anonymous functions that can have any no of argumnets but only one expression.\n",
    "\n",
    "#### SUNTAX::: lambda arguments :expression"
   ]
  },
  {
   "cell_type": "code",
   "execution_count": 1,
   "metadata": {},
   "outputs": [
    {
     "name": "stdout",
     "output_type": "stream",
     "text": [
      "5\n"
     ]
    }
   ],
   "source": [
    "def addition(a,b):\n",
    "    return a+b\n",
    "print(addition(2,3))"
   ]
  },
  {
   "cell_type": "code",
   "execution_count": 3,
   "metadata": {},
   "outputs": [
    {
     "name": "stdout",
     "output_type": "stream",
     "text": [
      "5\n",
      "<class 'function'>\n"
     ]
    }
   ],
   "source": [
    "add=lambda a,b :a+b\n",
    "print(add(2,3))\n",
    "print(type(add))"
   ]
  },
  {
   "cell_type": "code",
   "execution_count": 4,
   "metadata": {},
   "outputs": [
    {
     "data": {
      "text/plain": [
       "True"
      ]
     },
     "execution_count": 4,
     "metadata": {},
     "output_type": "execute_result"
    }
   ],
   "source": [
    "def even (num):\n",
    "    if num%2==0:\n",
    "        return True\n",
    "    \n",
    "even(24)"
   ]
  },
  {
   "cell_type": "code",
   "execution_count": 6,
   "metadata": {},
   "outputs": [
    {
     "name": "stdout",
     "output_type": "stream",
     "text": [
      "True\n"
     ]
    }
   ],
   "source": [
    "even=lambda num:num%2==0\n",
    "print(even(2))\n"
   ]
  },
  {
   "cell_type": "markdown",
   "metadata": {},
   "source": [
    "## Map function: applies a function to all th elememnts in th elist"
   ]
  },
  {
   "cell_type": "code",
   "execution_count": 8,
   "metadata": {},
   "outputs": [
    {
     "data": {
      "text/plain": [
       "4"
      ]
     },
     "execution_count": 8,
     "metadata": {},
     "output_type": "execute_result"
    }
   ],
   "source": [
    "def square(num):\n",
    "    return num**2\n",
    "\n",
    "square(2)"
   ]
  },
  {
   "cell_type": "markdown",
   "metadata": {},
   "source": [
    "##### Lmabda function without map"
   ]
  },
  {
   "cell_type": "code",
   "execution_count": 13,
   "metadata": {},
   "outputs": [
    {
     "data": {
      "text/plain": [
       "[1, 4, 9, 16, 25, 36]"
      ]
     },
     "execution_count": 13,
     "metadata": {},
     "output_type": "execute_result"
    }
   ],
   "source": [
    "def square(num):\n",
    "    return num**2\n",
    "square(6)\n",
    "numbers=[1,2,3,4,5,6]\n",
    "\n",
    "list(map(square,numbers))"
   ]
  },
  {
   "cell_type": "markdown",
   "metadata": {},
   "source": [
    "##### Lmbda function iwth map"
   ]
  },
  {
   "cell_type": "code",
   "execution_count": 10,
   "metadata": {},
   "outputs": [
    {
     "data": {
      "text/plain": [
       "[1, 4, 9, 16, 25, 36, 49, 64, 81, 100]"
      ]
     },
     "execution_count": 10,
     "metadata": {},
     "output_type": "execute_result"
    }
   ],
   "source": [
    "num=[1,2,3,4,5,6,7,8,9,10]\n",
    "map(lambda x:x**2, num)\n",
    "list(map(lambda x:x**2, num))"
   ]
  },
  {
   "cell_type": "code",
   "execution_count": 19,
   "metadata": {},
   "outputs": [
    {
     "name": "stdout",
     "output_type": "stream",
     "text": [
      "added no are [6, 8, 10]\n",
      "Multiples are [5, 12, 21]\n"
     ]
    }
   ],
   "source": [
    "## Multiple iterables\n",
    "\n",
    "num1=[1,2,3]\n",
    "num2=[5,6,7]\n",
    "\n",
    "added_num=list(map(lambda x,y:x+y , num1 , num2))\n",
    "print(f\"added no are {added_num}\")\n",
    "\n",
    "multiple=list(map(lambda x,y : x*y , num1 ,num2))\n",
    "print(f\"Multiples are {multiple}\")\n"
   ]
  },
  {
   "cell_type": "code",
   "execution_count": 20,
   "metadata": {},
   "outputs": [
    {
     "name": "stdout",
     "output_type": "stream",
     "text": [
      "[1, 2, 3, 4, 5]\n"
     ]
    }
   ],
   "source": [
    "# Map to convert list of strings into integers\n",
    "str_num=['1','2','3','4','5']\n",
    "int_num=list(map(int , str_num))\n",
    "\n",
    "print(int_num)"
   ]
  },
  {
   "cell_type": "code",
   "execution_count": 21,
   "metadata": {},
   "outputs": [
    {
     "name": "stdout",
     "output_type": "stream",
     "text": [
      "['APPLE', 'CHERRRY', 'MANGO']\n"
     ]
    }
   ],
   "source": [
    "words=[\"apple\",\"cherrry\",'mango']\n",
    "upper= list(map(str.upper,words))\n",
    "print(upper)"
   ]
  },
  {
   "cell_type": "code",
   "execution_count": 30,
   "metadata": {},
   "outputs": [
    {
     "data": {
      "text/plain": [
       "['Aman', 'Shreya', 'Atha']"
      ]
     },
     "execution_count": 30,
     "metadata": {},
     "output_type": "execute_result"
    }
   ],
   "source": [
    "def get_name(person):\n",
    "    return person['name']\n",
    "\n",
    "\n",
    "people=[\n",
    "    {\"name\":'Aman' , 'age':4},\n",
    "    {'name':'Shreya', 'age':4},\n",
    "    {'name':'Atha' , 'age':8}\n",
    "]\n",
    "list(map (get_name , people))\n"
   ]
  },
  {
   "cell_type": "markdown",
   "metadata": {},
   "source": [
    "#### FILTER Function to filter out based on the condition"
   ]
  },
  {
   "cell_type": "markdown",
   "metadata": {},
   "source": [
    "##### Filter using a def function"
   ]
  },
  {
   "cell_type": "code",
   "execution_count": 31,
   "metadata": {},
   "outputs": [],
   "source": [
    "def even(num):\n",
    "    if num%2==0:\n",
    "        return True"
   ]
  },
  {
   "cell_type": "code",
   "execution_count": 32,
   "metadata": {},
   "outputs": [
    {
     "data": {
      "text/plain": [
       "[2, 4, 6, 8, 10]"
      ]
     },
     "execution_count": 32,
     "metadata": {},
     "output_type": "execute_result"
    }
   ],
   "source": [
    "lst=[1,2,3,4,5,6,7,8,9,10]\n",
    "list(filter(even, lst))\n"
   ]
  },
  {
   "cell_type": "markdown",
   "metadata": {},
   "source": [
    "#### Filter using a lambda function"
   ]
  },
  {
   "cell_type": "code",
   "execution_count": 35,
   "metadata": {},
   "outputs": [
    {
     "data": {
      "text/plain": [
       "[2, 4, 6, 8, 10]"
      ]
     },
     "execution_count": 35,
     "metadata": {},
     "output_type": "execute_result"
    }
   ],
   "source": [
    "# Filetr with even no \n",
    "even=lambda num:num%2==0\n",
    "lst=[1,2,3,4,5,6,7,8,9,10]\n",
    "list(filter(even,lst))\n"
   ]
  },
  {
   "cell_type": "code",
   "execution_count": 36,
   "metadata": {},
   "outputs": [
    {
     "data": {
      "text/plain": [
       "[80, 20, 6, 7, 9, 60, 7]"
      ]
     },
     "execution_count": 36,
     "metadata": {},
     "output_type": "execute_result"
    }
   ],
   "source": [
    "# Filetr with greater the 5 no\n",
    "lst=[80,20,4,6,7,2,9,0,60,7]\n",
    "greater_than_five=lambda x:x>5\n",
    "list(filter(greater_than_five , lst))"
   ]
  },
  {
   "cell_type": "code",
   "execution_count": 37,
   "metadata": {},
   "outputs": [
    {
     "data": {
      "text/plain": [
       "[80, 20, 6, 60]"
      ]
     },
     "execution_count": 37,
     "metadata": {},
     "output_type": "execute_result"
    }
   ],
   "source": [
    "# Filetr with even no and greater than five\n",
    "lst=[80,20,4,6,7,2,9,0,60,7]\n",
    "even_and_great = lambda x:x>5 and x%2==0\n",
    "list(filter(even_and_great , lst))\n"
   ]
  },
  {
   "cell_type": "code",
   "execution_count": 41,
   "metadata": {},
   "outputs": [
    {
     "data": {
      "text/plain": [
       "[{'name': 'Aman', 'age': 40}, {'name': 'Shreya', 'age': 45}]"
      ]
     },
     "execution_count": 41,
     "metadata": {},
     "output_type": "execute_result"
    }
   ],
   "source": [
    "# check iif age is grater than 25\n",
    "people=[\n",
    "    {\"name\":'Aman' , 'age':40},\n",
    "    {'name':'Shreya', 'age':45},\n",
    "    {'name':'Atha' , 'age':8}\n",
    "]\n",
    "\n",
    "#age_greater= lambda people['age']:people['age']>25 , people\n",
    "\n",
    "def age_greater(person):\n",
    "    return person['age']>25\n",
    " \n",
    "\n",
    "list(filter(age_greater , people))"
   ]
  },
  {
   "cell_type": "code",
   "execution_count": null,
   "metadata": {},
   "outputs": [],
   "source": []
  }
 ],
 "metadata": {
  "kernelspec": {
   "display_name": "base",
   "language": "python",
   "name": "python3"
  },
  "language_info": {
   "codemirror_mode": {
    "name": "ipython",
    "version": 3
   },
   "file_extension": ".py",
   "mimetype": "text/x-python",
   "name": "python",
   "nbconvert_exporter": "python",
   "pygments_lexer": "ipython3",
   "version": "3.9.13"
  }
 },
 "nbformat": 4,
 "nbformat_minor": 2
}
